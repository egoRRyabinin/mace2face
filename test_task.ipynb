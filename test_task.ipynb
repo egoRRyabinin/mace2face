{
 "cells": [
  {
   "cell_type": "markdown",
   "id": "a746dbb2",
   "metadata": {},
   "source": [
    "# Задача №1"
   ]
  },
  {
   "cell_type": "markdown",
   "id": "85048359",
   "metadata": {},
   "source": [
    "**Условия задачи №1**\n",
    "\n",
    "За февраль на площадке ВК маркетологи потратили 14 399 806 р.\n",
    "Необходимо собрать данные о тратах и количестве заявок в каждом из перечисленных городов, также подвести итог по всем городам.\n",
    "\n",
    "Примите во внимание, что заявка в каждом городе стоит одинаково.\n",
    "\n",
    "*Док “Вводные данные”"
   ]
  },
  {
   "cell_type": "markdown",
   "id": "eb32bfd1",
   "metadata": {},
   "source": [
    "Дата: февраль, источник: ВК."
   ]
  },
  {
   "cell_type": "markdown",
   "id": "2700adc9",
   "metadata": {},
   "source": [
    "Произведём загрузку необходимых библиотек."
   ]
  },
  {
   "cell_type": "code",
   "execution_count": 1,
   "id": "baeec920",
   "metadata": {},
   "outputs": [],
   "source": [
    "import pandas as pd\n",
    "import numpy as np\n",
    "import matplotlib.pyplot as plt\n",
    "import seaborn as sns"
   ]
  },
  {
   "cell_type": "markdown",
   "id": "a486cb47",
   "metadata": {},
   "source": [
    "Загрузим данные."
   ]
  },
  {
   "cell_type": "code",
   "execution_count": 2,
   "id": "be42d840",
   "metadata": {},
   "outputs": [],
   "source": [
    "input_data = pd.read_excel(r'C:\\Users\\Egor\\Desktop\\тест\\Вводные данные.xlsx', parse_dates=True)"
   ]
  },
  {
   "cell_type": "code",
   "execution_count": 3,
   "id": "91377198",
   "metadata": {},
   "outputs": [
    {
     "name": "stdout",
     "output_type": "stream",
     "text": [
      "<class 'pandas.core.frame.DataFrame'>\n",
      "RangeIndex: 39610 entries, 0 to 39609\n",
      "Data columns (total 13 columns):\n",
      " #   Column                 Non-Null Count  Dtype  \n",
      "---  ------                 --------------  -----  \n",
      " 0   Основной контакт       39610 non-null  object \n",
      " 1   Дата создания          39610 non-null  object \n",
      " 2   Источник               39610 non-null  object \n",
      " 3   Город                  39610 non-null  object \n",
      " 4   Возраст                8779 non-null   object \n",
      " 5   Статус                 46 non-null     object \n",
      " 6   Придет                 7 non-null      float64\n",
      " 7   LeadFormId             39563 non-null  float64\n",
      " 8   Был записан            1025 non-null   object \n",
      " 9   Была первичная запись  1025 non-null   float64\n",
      " 10  Придет.1               424 non-null    float64\n",
      " 11  ХЗМ                    0 non-null      float64\n",
      " 12  Онлайн-консультация    264 non-null    float64\n",
      "dtypes: float64(6), object(7)\n",
      "memory usage: 3.9+ MB\n"
     ]
    }
   ],
   "source": [
    "input_data.info()"
   ]
  },
  {
   "cell_type": "code",
   "execution_count": 4,
   "id": "d4f47d5f",
   "metadata": {},
   "outputs": [
    {
     "data": {
      "text/html": [
       "<div>\n",
       "<style scoped>\n",
       "    .dataframe tbody tr th:only-of-type {\n",
       "        vertical-align: middle;\n",
       "    }\n",
       "\n",
       "    .dataframe tbody tr th {\n",
       "        vertical-align: top;\n",
       "    }\n",
       "\n",
       "    .dataframe thead th {\n",
       "        text-align: right;\n",
       "    }\n",
       "</style>\n",
       "<table border=\"1\" class=\"dataframe\">\n",
       "  <thead>\n",
       "    <tr style=\"text-align: right;\">\n",
       "      <th></th>\n",
       "      <th>Основной контакт</th>\n",
       "      <th>Дата создания</th>\n",
       "      <th>Источник</th>\n",
       "      <th>Город</th>\n",
       "      <th>Возраст</th>\n",
       "      <th>Статус</th>\n",
       "      <th>Придет</th>\n",
       "      <th>LeadFormId</th>\n",
       "      <th>Был записан</th>\n",
       "      <th>Была первичная запись</th>\n",
       "      <th>Придет.1</th>\n",
       "      <th>ХЗМ</th>\n",
       "      <th>Онлайн-консультация</th>\n",
       "    </tr>\n",
       "  </thead>\n",
       "  <tbody>\n",
       "    <tr>\n",
       "      <th>0</th>\n",
       "      <td>Эмиль</td>\n",
       "      <td>31.03.2023 23:38:35</td>\n",
       "      <td>tg</td>\n",
       "      <td>Другой</td>\n",
       "      <td>18</td>\n",
       "      <td>NaN</td>\n",
       "      <td>NaN</td>\n",
       "      <td>26.0</td>\n",
       "      <td>03.04.2023</td>\n",
       "      <td>1.0</td>\n",
       "      <td>NaN</td>\n",
       "      <td>NaN</td>\n",
       "      <td>1.0</td>\n",
       "    </tr>\n",
       "    <tr>\n",
       "      <th>1</th>\n",
       "      <td>Константин</td>\n",
       "      <td>31.03.2023 23:34:54</td>\n",
       "      <td>tg</td>\n",
       "      <td>Москва</td>\n",
       "      <td>18</td>\n",
       "      <td>NaN</td>\n",
       "      <td>NaN</td>\n",
       "      <td>24.0</td>\n",
       "      <td>NaN</td>\n",
       "      <td>NaN</td>\n",
       "      <td>NaN</td>\n",
       "      <td>NaN</td>\n",
       "      <td>NaN</td>\n",
       "    </tr>\n",
       "    <tr>\n",
       "      <th>2</th>\n",
       "      <td>Ренат</td>\n",
       "      <td>31.03.2023 23:33:33</td>\n",
       "      <td>tg</td>\n",
       "      <td>Казань</td>\n",
       "      <td>18</td>\n",
       "      <td>NaN</td>\n",
       "      <td>NaN</td>\n",
       "      <td>16.0</td>\n",
       "      <td>NaN</td>\n",
       "      <td>NaN</td>\n",
       "      <td>NaN</td>\n",
       "      <td>NaN</td>\n",
       "      <td>NaN</td>\n",
       "    </tr>\n",
       "    <tr>\n",
       "      <th>3</th>\n",
       "      <td>Даниил</td>\n",
       "      <td>31.03.2023 23:23:00</td>\n",
       "      <td>tg</td>\n",
       "      <td>Другой</td>\n",
       "      <td>15</td>\n",
       "      <td>NaN</td>\n",
       "      <td>NaN</td>\n",
       "      <td>97.0</td>\n",
       "      <td>NaN</td>\n",
       "      <td>NaN</td>\n",
       "      <td>NaN</td>\n",
       "      <td>NaN</td>\n",
       "      <td>NaN</td>\n",
       "    </tr>\n",
       "    <tr>\n",
       "      <th>4</th>\n",
       "      <td>Alex Takizawa</td>\n",
       "      <td>31.03.2023 23:22:06</td>\n",
       "      <td>tg</td>\n",
       "      <td>Москва</td>\n",
       "      <td>19</td>\n",
       "      <td>NaN</td>\n",
       "      <td>NaN</td>\n",
       "      <td>32.0</td>\n",
       "      <td>NaN</td>\n",
       "      <td>NaN</td>\n",
       "      <td>NaN</td>\n",
       "      <td>NaN</td>\n",
       "      <td>NaN</td>\n",
       "    </tr>\n",
       "  </tbody>\n",
       "</table>\n",
       "</div>"
      ],
      "text/plain": [
       "  Основной контакт        Дата создания Источник   Город Возраст Статус  \\\n",
       "0            Эмиль  31.03.2023 23:38:35       tg  Другой      18    NaN   \n",
       "1       Константин  31.03.2023 23:34:54       tg  Москва      18    NaN   \n",
       "2            Ренат  31.03.2023 23:33:33       tg  Казань      18    NaN   \n",
       "3           Даниил  31.03.2023 23:23:00       tg  Другой      15    NaN   \n",
       "4    Alex Takizawa  31.03.2023 23:22:06       tg  Москва      19    NaN   \n",
       "\n",
       "   Придет  LeadFormId Был записан  Была первичная запись  Придет.1  ХЗМ  \\\n",
       "0     NaN        26.0  03.04.2023                    1.0       NaN  NaN   \n",
       "1     NaN        24.0         NaN                    NaN       NaN  NaN   \n",
       "2     NaN        16.0         NaN                    NaN       NaN  NaN   \n",
       "3     NaN        97.0         NaN                    NaN       NaN  NaN   \n",
       "4     NaN        32.0         NaN                    NaN       NaN  NaN   \n",
       "\n",
       "   Онлайн-консультация  \n",
       "0                  1.0  \n",
       "1                  NaN  \n",
       "2                  NaN  \n",
       "3                  NaN  \n",
       "4                  NaN  "
      ]
     },
     "execution_count": 4,
     "metadata": {},
     "output_type": "execute_result"
    }
   ],
   "source": [
    "input_data.head()"
   ]
  },
  {
   "cell_type": "code",
   "execution_count": 5,
   "id": "345b8a37",
   "metadata": {
    "scrolled": false
   },
   "outputs": [
    {
     "data": {
      "text/plain": [
       "Основной контакт             0\n",
       "Дата создания                0\n",
       "Источник                     0\n",
       "Город                        0\n",
       "Возраст                  30831\n",
       "Статус                   39564\n",
       "Придет                   39603\n",
       "LeadFormId                  47\n",
       "Был записан              38585\n",
       "Была первичная запись    38585\n",
       "Придет.1                 39186\n",
       "ХЗМ                      39610\n",
       "Онлайн-консультация      39346\n",
       "dtype: int64"
      ]
     },
     "execution_count": 5,
     "metadata": {},
     "output_type": "execute_result"
    }
   ],
   "source": [
    "input_data.isna().sum()"
   ]
  },
  {
   "cell_type": "markdown",
   "id": "41c29372",
   "metadata": {},
   "source": [
    "Пропусков в столбцах для условия задачи нет."
   ]
  },
  {
   "cell_type": "code",
   "execution_count": 6,
   "id": "20725dc7",
   "metadata": {},
   "outputs": [],
   "source": [
    "TOTAL = 14399806"
   ]
  },
  {
   "cell_type": "code",
   "execution_count": 7,
   "id": "d6e8f4a0",
   "metadata": {},
   "outputs": [],
   "source": [
    "input_data['Дата создания'] = pd.to_datetime(input_data['Дата создания'], format='%d.%m.%Y %H:%M:%S')"
   ]
  },
  {
   "cell_type": "markdown",
   "id": "73e72183",
   "metadata": {},
   "source": [
    "Отфильтруем значения согласно условию."
   ]
  },
  {
   "cell_type": "code",
   "execution_count": 8,
   "id": "29b66cfd",
   "metadata": {},
   "outputs": [
    {
     "data": {
      "text/html": [
       "<div>\n",
       "<style scoped>\n",
       "    .dataframe tbody tr th:only-of-type {\n",
       "        vertical-align: middle;\n",
       "    }\n",
       "\n",
       "    .dataframe tbody tr th {\n",
       "        vertical-align: top;\n",
       "    }\n",
       "\n",
       "    .dataframe thead th {\n",
       "        text-align: right;\n",
       "    }\n",
       "</style>\n",
       "<table border=\"1\" class=\"dataframe\">\n",
       "  <thead>\n",
       "    <tr style=\"text-align: right;\">\n",
       "      <th></th>\n",
       "      <th>Основной контакт</th>\n",
       "      <th>Дата создания</th>\n",
       "      <th>Источник</th>\n",
       "      <th>Город</th>\n",
       "      <th>Возраст</th>\n",
       "      <th>Статус</th>\n",
       "      <th>Придет</th>\n",
       "      <th>LeadFormId</th>\n",
       "      <th>Был записан</th>\n",
       "      <th>Была первичная запись</th>\n",
       "      <th>Придет.1</th>\n",
       "      <th>ХЗМ</th>\n",
       "      <th>Онлайн-консультация</th>\n",
       "    </tr>\n",
       "  </thead>\n",
       "  <tbody>\n",
       "    <tr>\n",
       "      <th>12781</th>\n",
       "      <td>Влад</td>\n",
       "      <td>2023-02-28 23:47:37</td>\n",
       "      <td>vk</td>\n",
       "      <td>Другой</td>\n",
       "      <td>NaN</td>\n",
       "      <td>NaN</td>\n",
       "      <td>NaN</td>\n",
       "      <td>125.0</td>\n",
       "      <td>NaN</td>\n",
       "      <td>NaN</td>\n",
       "      <td>NaN</td>\n",
       "      <td>NaN</td>\n",
       "      <td>NaN</td>\n",
       "    </tr>\n",
       "    <tr>\n",
       "      <th>12782</th>\n",
       "      <td>Алексей</td>\n",
       "      <td>2023-02-28 23:37:06</td>\n",
       "      <td>vk</td>\n",
       "      <td>Иваново</td>\n",
       "      <td>NaN</td>\n",
       "      <td>NaN</td>\n",
       "      <td>NaN</td>\n",
       "      <td>125.0</td>\n",
       "      <td>NaN</td>\n",
       "      <td>NaN</td>\n",
       "      <td>NaN</td>\n",
       "      <td>NaN</td>\n",
       "      <td>NaN</td>\n",
       "    </tr>\n",
       "    <tr>\n",
       "      <th>12784</th>\n",
       "      <td>Xiro</td>\n",
       "      <td>2023-02-28 23:14:17</td>\n",
       "      <td>vk</td>\n",
       "      <td>Другой</td>\n",
       "      <td>NaN</td>\n",
       "      <td>NaN</td>\n",
       "      <td>NaN</td>\n",
       "      <td>125.0</td>\n",
       "      <td>NaN</td>\n",
       "      <td>NaN</td>\n",
       "      <td>NaN</td>\n",
       "      <td>NaN</td>\n",
       "      <td>NaN</td>\n",
       "    </tr>\n",
       "    <tr>\n",
       "      <th>12791</th>\n",
       "      <td>Никита</td>\n",
       "      <td>2023-02-28 22:17:46</td>\n",
       "      <td>vk</td>\n",
       "      <td>Петрозаводск</td>\n",
       "      <td>NaN</td>\n",
       "      <td>NaN</td>\n",
       "      <td>NaN</td>\n",
       "      <td>125.0</td>\n",
       "      <td>NaN</td>\n",
       "      <td>NaN</td>\n",
       "      <td>NaN</td>\n",
       "      <td>NaN</td>\n",
       "      <td>NaN</td>\n",
       "    </tr>\n",
       "    <tr>\n",
       "      <th>12794</th>\n",
       "      <td>Aaron</td>\n",
       "      <td>2023-02-28 21:53:23</td>\n",
       "      <td>vk</td>\n",
       "      <td>Красноярск</td>\n",
       "      <td>NaN</td>\n",
       "      <td>NaN</td>\n",
       "      <td>NaN</td>\n",
       "      <td>125.0</td>\n",
       "      <td>NaN</td>\n",
       "      <td>NaN</td>\n",
       "      <td>NaN</td>\n",
       "      <td>NaN</td>\n",
       "      <td>NaN</td>\n",
       "    </tr>\n",
       "  </tbody>\n",
       "</table>\n",
       "</div>"
      ],
      "text/plain": [
       "      Основной контакт       Дата создания Источник         Город Возраст  \\\n",
       "12781             Влад 2023-02-28 23:47:37       vk        Другой     NaN   \n",
       "12782          Алексей 2023-02-28 23:37:06       vk       Иваново     NaN   \n",
       "12784             Xiro 2023-02-28 23:14:17       vk        Другой     NaN   \n",
       "12791           Никита 2023-02-28 22:17:46       vk  Петрозаводск     NaN   \n",
       "12794            Aaron 2023-02-28 21:53:23       vk    Красноярск     NaN   \n",
       "\n",
       "      Статус  Придет  LeadFormId Был записан  Была первичная запись  Придет.1  \\\n",
       "12781    NaN     NaN       125.0         NaN                    NaN       NaN   \n",
       "12782    NaN     NaN       125.0         NaN                    NaN       NaN   \n",
       "12784    NaN     NaN       125.0         NaN                    NaN       NaN   \n",
       "12791    NaN     NaN       125.0         NaN                    NaN       NaN   \n",
       "12794    NaN     NaN       125.0         NaN                    NaN       NaN   \n",
       "\n",
       "       ХЗМ  Онлайн-консультация  \n",
       "12781  NaN                  NaN  \n",
       "12782  NaN                  NaN  \n",
       "12784  NaN                  NaN  \n",
       "12791  NaN                  NaN  \n",
       "12794  NaN                  NaN  "
      ]
     },
     "execution_count": 8,
     "metadata": {},
     "output_type": "execute_result"
    }
   ],
   "source": [
    "df = input_data[(input_data['Дата создания'].dt.month == 2) & (input_data['Источник'] == 'vk')]\n",
    "df.head()"
   ]
  },
  {
   "cell_type": "code",
   "execution_count": 9,
   "id": "75603986",
   "metadata": {},
   "outputs": [
    {
     "data": {
      "text/plain": [
       "(21711, 13)"
      ]
     },
     "execution_count": 9,
     "metadata": {},
     "output_type": "execute_result"
    }
   ],
   "source": [
    "df.shape"
   ]
  },
  {
   "cell_type": "markdown",
   "id": "a6995d8d",
   "metadata": {},
   "source": [
    "В таблице осталось 21711 удовлетворяющих условию записей."
   ]
  },
  {
   "cell_type": "markdown",
   "id": "dcc296e2",
   "metadata": {},
   "source": [
    "Рассчитаем расход на одну заявку."
   ]
  },
  {
   "cell_type": "code",
   "execution_count": 10,
   "id": "1d2be9ae",
   "metadata": {},
   "outputs": [
    {
     "data": {
      "text/plain": [
       "663.2493206208834"
      ]
     },
     "execution_count": 10,
     "metadata": {},
     "output_type": "execute_result"
    }
   ],
   "source": [
    "one_entry = TOTAL / df.shape[0]\n",
    "one_entry"
   ]
  },
  {
   "cell_type": "markdown",
   "id": "7f141fb9",
   "metadata": {},
   "source": [
    "Посмотрим на статистику по городам."
   ]
  },
  {
   "cell_type": "code",
   "execution_count": 11,
   "id": "052cf2a8",
   "metadata": {},
   "outputs": [],
   "source": [
    "table = pd.DataFrame(\n",
    "    pd.pivot_table(df, values='Основной контакт', index='Город',aggfunc='count') \\\n",
    "    .rename(columns={'Основной контакт':'Количество заявок'})\n",
    ")"
   ]
  },
  {
   "cell_type": "code",
   "execution_count": 12,
   "id": "ca9f745d",
   "metadata": {},
   "outputs": [],
   "source": [
    "table['Расходы'] = round(table['Количество заявок'] * one_entry, 2)"
   ]
  },
  {
   "cell_type": "code",
   "execution_count": 13,
   "id": "f13656dd",
   "metadata": {
    "scrolled": true
   },
   "outputs": [
    {
     "data": {
      "text/html": [
       "<div>\n",
       "<style scoped>\n",
       "    .dataframe tbody tr th:only-of-type {\n",
       "        vertical-align: middle;\n",
       "    }\n",
       "\n",
       "    .dataframe tbody tr th {\n",
       "        vertical-align: top;\n",
       "    }\n",
       "\n",
       "    .dataframe thead th {\n",
       "        text-align: right;\n",
       "    }\n",
       "</style>\n",
       "<table border=\"1\" class=\"dataframe\">\n",
       "  <thead>\n",
       "    <tr style=\"text-align: right;\">\n",
       "      <th></th>\n",
       "      <th>Количество заявок</th>\n",
       "      <th>Расходы</th>\n",
       "    </tr>\n",
       "    <tr>\n",
       "      <th>Город</th>\n",
       "      <th></th>\n",
       "      <th></th>\n",
       "    </tr>\n",
       "  </thead>\n",
       "  <tbody>\n",
       "    <tr>\n",
       "      <th>Другой</th>\n",
       "      <td>11631</td>\n",
       "      <td>7714252.85</td>\n",
       "    </tr>\n",
       "    <tr>\n",
       "      <th>Москва</th>\n",
       "      <td>2159</td>\n",
       "      <td>1431955.28</td>\n",
       "    </tr>\n",
       "    <tr>\n",
       "      <th>Санкт-Петербург</th>\n",
       "      <td>702</td>\n",
       "      <td>465601.02</td>\n",
       "    </tr>\n",
       "    <tr>\n",
       "      <th>Новосибирск</th>\n",
       "      <td>301</td>\n",
       "      <td>199638.05</td>\n",
       "    </tr>\n",
       "    <tr>\n",
       "      <th>Екатеринбург</th>\n",
       "      <td>265</td>\n",
       "      <td>175761.07</td>\n",
       "    </tr>\n",
       "    <tr>\n",
       "      <th>...</th>\n",
       "      <td>...</td>\n",
       "      <td>...</td>\n",
       "    </tr>\n",
       "    <tr>\n",
       "      <th>Мытищи</th>\n",
       "      <td>5</td>\n",
       "      <td>3316.25</td>\n",
       "    </tr>\n",
       "    <tr>\n",
       "      <th>ДВДИСТ</th>\n",
       "      <td>4</td>\n",
       "      <td>2653.00</td>\n",
       "    </tr>\n",
       "    <tr>\n",
       "      <th>Одинцово</th>\n",
       "      <td>4</td>\n",
       "      <td>2653.00</td>\n",
       "    </tr>\n",
       "    <tr>\n",
       "      <th>Артем</th>\n",
       "      <td>4</td>\n",
       "      <td>2653.00</td>\n",
       "    </tr>\n",
       "    <tr>\n",
       "      <th>Балашиха</th>\n",
       "      <td>3</td>\n",
       "      <td>1989.75</td>\n",
       "    </tr>\n",
       "  </tbody>\n",
       "</table>\n",
       "<p>93 rows × 2 columns</p>\n",
       "</div>"
      ],
      "text/plain": [
       "                 Количество заявок     Расходы\n",
       "Город                                         \n",
       "Другой                       11631  7714252.85\n",
       "Москва                        2159  1431955.28\n",
       "Санкт-Петербург                702   465601.02\n",
       "Новосибирск                    301   199638.05\n",
       "Екатеринбург                   265   175761.07\n",
       "...                            ...         ...\n",
       "Мытищи                           5     3316.25\n",
       "ДВДИСТ                           4     2653.00\n",
       "Одинцово                         4     2653.00\n",
       "Артем                            4     2653.00\n",
       "Балашиха                         3     1989.75\n",
       "\n",
       "[93 rows x 2 columns]"
      ]
     },
     "execution_count": 13,
     "metadata": {},
     "output_type": "execute_result"
    }
   ],
   "source": [
    "table.sort_values(by=['Расходы'], ascending=False)"
   ]
  },
  {
   "cell_type": "code",
   "execution_count": 14,
   "id": "634ce8cb",
   "metadata": {},
   "outputs": [],
   "source": [
    "table.to_excel(r'C:\\Users\\Egor\\Desktop\\тест\\Задание_1.xlsx', index=True)"
   ]
  },
  {
   "cell_type": "markdown",
   "id": "cce17b94",
   "metadata": {},
   "source": [
    "# Задача №2"
   ]
  },
  {
   "cell_type": "markdown",
   "id": "01f11c0a",
   "metadata": {},
   "source": [
    "**Условие задачи №2** \n",
    "\n",
    "При попадании заявки в нашу CRM систему ей присваивается соответствующая воронка.  \n",
    "Для повышения конверсии в договор была проведена рассылка, после которой заявки распределились на другие воронки.  \n",
    "Чтобы оценить эффективность, нужно сравнить данные и у каждой заявки проставить новую воронку, если такая имеется.  \n",
    "Воронка должна быть проставлена формулой, а не значением.  \n",
    "Уникальное и неизменное значение для каждой заявки является ID.\n",
    "\n",
    "*Док “Рассылка”"
   ]
  },
  {
   "cell_type": "code",
   "execution_count": 15,
   "id": "fbfd11ad",
   "metadata": {},
   "outputs": [],
   "source": [
    "xls = pd.ExcelFile(r'C:\\Users\\Egor\\Desktop\\тест\\Рассылка.xlsx')\n",
    "df1 = pd.read_excel(xls, 'База для рассылки')\n",
    "df2 = pd.read_excel(xls, 'Получили рассылку')"
   ]
  },
  {
   "cell_type": "code",
   "execution_count": 16,
   "id": "4b1cb3fd",
   "metadata": {},
   "outputs": [
    {
     "data": {
      "text/plain": [
       "((1047, 7), (935, 6))"
      ]
     },
     "execution_count": 16,
     "metadata": {},
     "output_type": "execute_result"
    }
   ],
   "source": [
    "df1.shape, df2.shape"
   ]
  },
  {
   "cell_type": "markdown",
   "id": "428624de",
   "metadata": {},
   "source": [
    "Размеры таблиц отличаются, следовательно рассылка была выполнена не для всех клиентов."
   ]
  },
  {
   "cell_type": "code",
   "execution_count": 17,
   "id": "a37e0abf",
   "metadata": {
    "scrolled": true
   },
   "outputs": [
    {
     "data": {
      "text/html": [
       "<div>\n",
       "<style scoped>\n",
       "    .dataframe tbody tr th:only-of-type {\n",
       "        vertical-align: middle;\n",
       "    }\n",
       "\n",
       "    .dataframe tbody tr th {\n",
       "        vertical-align: top;\n",
       "    }\n",
       "\n",
       "    .dataframe thead th {\n",
       "        text-align: right;\n",
       "    }\n",
       "</style>\n",
       "<table border=\"1\" class=\"dataframe\">\n",
       "  <thead>\n",
       "    <tr style=\"text-align: right;\">\n",
       "      <th></th>\n",
       "      <th>ID</th>\n",
       "      <th>Основной контакт</th>\n",
       "      <th>Старая воронка</th>\n",
       "      <th>Новая воронка</th>\n",
       "      <th>Дата создания</th>\n",
       "      <th>Город</th>\n",
       "      <th>Возраст</th>\n",
       "    </tr>\n",
       "  </thead>\n",
       "  <tbody>\n",
       "    <tr>\n",
       "      <th>0</th>\n",
       "      <td>32693772</td>\n",
       "      <td>Black</td>\n",
       "      <td>ДРР-скорозвон</td>\n",
       "      <td>NaN</td>\n",
       "      <td>06.04.2023 23:45:19</td>\n",
       "      <td>Хабаровск</td>\n",
       "      <td>18.0</td>\n",
       "    </tr>\n",
       "    <tr>\n",
       "      <th>1</th>\n",
       "      <td>32693770</td>\n",
       "      <td>Вячеслав</td>\n",
       "      <td>ДРР-скорозвон</td>\n",
       "      <td>NaN</td>\n",
       "      <td>06.04.2023 23:33:57</td>\n",
       "      <td>Пермь</td>\n",
       "      <td>19.0</td>\n",
       "    </tr>\n",
       "    <tr>\n",
       "      <th>2</th>\n",
       "      <td>32693768</td>\n",
       "      <td>Роман</td>\n",
       "      <td>ДРР-скорозвон</td>\n",
       "      <td>NaN</td>\n",
       "      <td>06.04.2023 23:30:35</td>\n",
       "      <td>Екатеринбург</td>\n",
       "      <td>18.0</td>\n",
       "    </tr>\n",
       "    <tr>\n",
       "      <th>3</th>\n",
       "      <td>32693766</td>\n",
       "      <td>Виталий</td>\n",
       "      <td>ДИСТ-скорозвон</td>\n",
       "      <td>NaN</td>\n",
       "      <td>06.04.2023 23:26:23</td>\n",
       "      <td>Другой</td>\n",
       "      <td>18.0</td>\n",
       "    </tr>\n",
       "    <tr>\n",
       "      <th>4</th>\n",
       "      <td>32693764</td>\n",
       "      <td>Миша</td>\n",
       "      <td>СкорингКЦ</td>\n",
       "      <td>NaN</td>\n",
       "      <td>06.04.2023 23:25:38</td>\n",
       "      <td>Другой</td>\n",
       "      <td>NaN</td>\n",
       "    </tr>\n",
       "  </tbody>\n",
       "</table>\n",
       "</div>"
      ],
      "text/plain": [
       "         ID Основной контакт  Старая воронка  Новая воронка  \\\n",
       "0  32693772            Black   ДРР-скорозвон            NaN   \n",
       "1  32693770         Вячеслав   ДРР-скорозвон            NaN   \n",
       "2  32693768            Роман   ДРР-скорозвон            NaN   \n",
       "3  32693766          Виталий  ДИСТ-скорозвон            NaN   \n",
       "4  32693764             Миша       СкорингКЦ            NaN   \n",
       "\n",
       "         Дата создания         Город  Возраст  \n",
       "0  06.04.2023 23:45:19     Хабаровск     18.0  \n",
       "1  06.04.2023 23:33:57         Пермь     19.0  \n",
       "2  06.04.2023 23:30:35  Екатеринбург     18.0  \n",
       "3  06.04.2023 23:26:23        Другой     18.0  \n",
       "4  06.04.2023 23:25:38        Другой      NaN  "
      ]
     },
     "execution_count": 17,
     "metadata": {},
     "output_type": "execute_result"
    }
   ],
   "source": [
    "df1.head()"
   ]
  },
  {
   "cell_type": "code",
   "execution_count": 18,
   "id": "b0ffe918",
   "metadata": {
    "scrolled": false
   },
   "outputs": [
    {
     "data": {
      "text/html": [
       "<div>\n",
       "<style scoped>\n",
       "    .dataframe tbody tr th:only-of-type {\n",
       "        vertical-align: middle;\n",
       "    }\n",
       "\n",
       "    .dataframe tbody tr th {\n",
       "        vertical-align: top;\n",
       "    }\n",
       "\n",
       "    .dataframe thead th {\n",
       "        text-align: right;\n",
       "    }\n",
       "</style>\n",
       "<table border=\"1\" class=\"dataframe\">\n",
       "  <thead>\n",
       "    <tr style=\"text-align: right;\">\n",
       "      <th></th>\n",
       "      <th>ID</th>\n",
       "      <th>Основной контакт</th>\n",
       "      <th>Воронка</th>\n",
       "      <th>Дата создания</th>\n",
       "      <th>Город</th>\n",
       "      <th>Возраст</th>\n",
       "    </tr>\n",
       "  </thead>\n",
       "  <tbody>\n",
       "    <tr>\n",
       "      <th>0</th>\n",
       "      <td>32684428</td>\n",
       "      <td>马特维耶夫</td>\n",
       "      <td>Дистанция</td>\n",
       "      <td>04.04.2023 08:50:48</td>\n",
       "      <td>Челябинск</td>\n",
       "      <td>16.0</td>\n",
       "    </tr>\n",
       "    <tr>\n",
       "      <th>1</th>\n",
       "      <td>32689917</td>\n",
       "      <td>帕夫鲁沙</td>\n",
       "      <td>ДРР-скорозвон</td>\n",
       "      <td>05.04.2023 01:44:38</td>\n",
       "      <td>Москва</td>\n",
       "      <td>19.0</td>\n",
       "    </tr>\n",
       "    <tr>\n",
       "      <th>2</th>\n",
       "      <td>32681834</td>\n",
       "      <td>安德鲁</td>\n",
       "      <td>ДРР-скорозвон</td>\n",
       "      <td>03.04.2023 12:40:52</td>\n",
       "      <td>Другой</td>\n",
       "      <td>NaN</td>\n",
       "    </tr>\n",
       "    <tr>\n",
       "      <th>3</th>\n",
       "      <td>32691982</td>\n",
       "      <td>كيف</td>\n",
       "      <td>ДРР-скорозвон</td>\n",
       "      <td>06.04.2023 03:38:08</td>\n",
       "      <td>Улан-Удэ</td>\n",
       "      <td>19.0</td>\n",
       "    </tr>\n",
       "    <tr>\n",
       "      <th>4</th>\n",
       "      <td>32685040</td>\n",
       "      <td>فلاديمير</td>\n",
       "      <td>Офис</td>\n",
       "      <td>04.04.2023 12:14:11</td>\n",
       "      <td>Другой</td>\n",
       "      <td>NaN</td>\n",
       "    </tr>\n",
       "  </tbody>\n",
       "</table>\n",
       "</div>"
      ],
      "text/plain": [
       "         ID Основной контакт        Воронка        Дата создания      Город  \\\n",
       "0  32684428            马特维耶夫      Дистанция  04.04.2023 08:50:48  Челябинск   \n",
       "1  32689917             帕夫鲁沙  ДРР-скорозвон  05.04.2023 01:44:38     Москва   \n",
       "2  32681834              安德鲁  ДРР-скорозвон  03.04.2023 12:40:52     Другой   \n",
       "3  32691982              كيف  ДРР-скорозвон  06.04.2023 03:38:08   Улан-Удэ   \n",
       "4  32685040         فلاديمير           Офис  04.04.2023 12:14:11     Другой   \n",
       "\n",
       "   Возраст  \n",
       "0     16.0  \n",
       "1     19.0  \n",
       "2      NaN  \n",
       "3     19.0  \n",
       "4      NaN  "
      ]
     },
     "execution_count": 18,
     "metadata": {},
     "output_type": "execute_result"
    }
   ],
   "source": [
    "df2.head()"
   ]
  },
  {
   "cell_type": "markdown",
   "id": "04df3567",
   "metadata": {},
   "source": [
    "Избавимся от лишнего столбца `Новая воронка` с пропущенными значениями."
   ]
  },
  {
   "cell_type": "code",
   "execution_count": 19,
   "id": "fcad9bce",
   "metadata": {},
   "outputs": [],
   "source": [
    "df1.drop('Новая воронка', axis=1, inplace=True)"
   ]
  },
  {
   "cell_type": "markdown",
   "id": "9964d11a",
   "metadata": {},
   "source": [
    "Присоединим таблицу df2 к таблице df1 по полю ID."
   ]
  },
  {
   "cell_type": "code",
   "execution_count": 20,
   "id": "670fa336",
   "metadata": {},
   "outputs": [],
   "source": [
    "new_df = df1.merge(df2[['ID', 'Воронка']], on='ID', how='left')\n",
    "new_df.rename(columns={'Воронка': 'Новая воронка'}, inplace=True)\n",
    "new_df = new_df[['ID', 'Основной контакт', 'Старая воронка', 'Новая воронка', 'Дата создания', 'Город', 'Возраст']]"
   ]
  },
  {
   "cell_type": "code",
   "execution_count": 21,
   "id": "735b289b",
   "metadata": {
    "scrolled": true
   },
   "outputs": [
    {
     "data": {
      "text/html": [
       "<div>\n",
       "<style scoped>\n",
       "    .dataframe tbody tr th:only-of-type {\n",
       "        vertical-align: middle;\n",
       "    }\n",
       "\n",
       "    .dataframe tbody tr th {\n",
       "        vertical-align: top;\n",
       "    }\n",
       "\n",
       "    .dataframe thead th {\n",
       "        text-align: right;\n",
       "    }\n",
       "</style>\n",
       "<table border=\"1\" class=\"dataframe\">\n",
       "  <thead>\n",
       "    <tr style=\"text-align: right;\">\n",
       "      <th></th>\n",
       "      <th>ID</th>\n",
       "      <th>Основной контакт</th>\n",
       "      <th>Старая воронка</th>\n",
       "      <th>Новая воронка</th>\n",
       "      <th>Дата создания</th>\n",
       "      <th>Город</th>\n",
       "      <th>Возраст</th>\n",
       "    </tr>\n",
       "  </thead>\n",
       "  <tbody>\n",
       "    <tr>\n",
       "      <th>0</th>\n",
       "      <td>32693772</td>\n",
       "      <td>Black</td>\n",
       "      <td>ДРР-скорозвон</td>\n",
       "      <td>ДИСТ-скорозвон</td>\n",
       "      <td>06.04.2023 23:45:19</td>\n",
       "      <td>Хабаровск</td>\n",
       "      <td>18.0</td>\n",
       "    </tr>\n",
       "    <tr>\n",
       "      <th>1</th>\n",
       "      <td>32693770</td>\n",
       "      <td>Вячеслав</td>\n",
       "      <td>ДРР-скорозвон</td>\n",
       "      <td>ДРР-скорозвон</td>\n",
       "      <td>06.04.2023 23:33:57</td>\n",
       "      <td>Пермь</td>\n",
       "      <td>19.0</td>\n",
       "    </tr>\n",
       "    <tr>\n",
       "      <th>2</th>\n",
       "      <td>32693768</td>\n",
       "      <td>Роман</td>\n",
       "      <td>ДРР-скорозвон</td>\n",
       "      <td>Офис</td>\n",
       "      <td>06.04.2023 23:30:35</td>\n",
       "      <td>Екатеринбург</td>\n",
       "      <td>18.0</td>\n",
       "    </tr>\n",
       "    <tr>\n",
       "      <th>3</th>\n",
       "      <td>32693766</td>\n",
       "      <td>Виталий</td>\n",
       "      <td>ДИСТ-скорозвон</td>\n",
       "      <td>Офис</td>\n",
       "      <td>06.04.2023 23:26:23</td>\n",
       "      <td>Другой</td>\n",
       "      <td>18.0</td>\n",
       "    </tr>\n",
       "    <tr>\n",
       "      <th>4</th>\n",
       "      <td>32693764</td>\n",
       "      <td>Миша</td>\n",
       "      <td>СкорингКЦ</td>\n",
       "      <td>ДРР-скорозвон</td>\n",
       "      <td>06.04.2023 23:25:38</td>\n",
       "      <td>Другой</td>\n",
       "      <td>NaN</td>\n",
       "    </tr>\n",
       "    <tr>\n",
       "      <th>...</th>\n",
       "      <td>...</td>\n",
       "      <td>...</td>\n",
       "      <td>...</td>\n",
       "      <td>...</td>\n",
       "      <td>...</td>\n",
       "      <td>...</td>\n",
       "      <td>...</td>\n",
       "    </tr>\n",
       "    <tr>\n",
       "      <th>1042</th>\n",
       "      <td>32681060</td>\n",
       "      <td>Егор</td>\n",
       "      <td>ДРР-скорозвон</td>\n",
       "      <td>NaN</td>\n",
       "      <td>03.04.2023 00:59:44</td>\n",
       "      <td>Другой</td>\n",
       "      <td>18.0</td>\n",
       "    </tr>\n",
       "    <tr>\n",
       "      <th>1043</th>\n",
       "      <td>32681052</td>\n",
       "      <td>Илона</td>\n",
       "      <td>СкорингКЦ</td>\n",
       "      <td>NaN</td>\n",
       "      <td>03.04.2023 00:32:10</td>\n",
       "      <td>Ростов-на-Дону</td>\n",
       "      <td>NaN</td>\n",
       "    </tr>\n",
       "    <tr>\n",
       "      <th>1044</th>\n",
       "      <td>32681038</td>\n",
       "      <td>Артём</td>\n",
       "      <td>ДИСТ-скорозвон</td>\n",
       "      <td>NaN</td>\n",
       "      <td>03.04.2023 00:16:55</td>\n",
       "      <td>Другой</td>\n",
       "      <td>18.0</td>\n",
       "    </tr>\n",
       "    <tr>\n",
       "      <th>1045</th>\n",
       "      <td>32681036</td>\n",
       "      <td>Женя</td>\n",
       "      <td>Офис</td>\n",
       "      <td>NaN</td>\n",
       "      <td>03.04.2023 00:02:59</td>\n",
       "      <td>Киров</td>\n",
       "      <td>19.0</td>\n",
       "    </tr>\n",
       "    <tr>\n",
       "      <th>1046</th>\n",
       "      <td>32681032</td>\n",
       "      <td>Игорь</td>\n",
       "      <td>СкорингКЦ</td>\n",
       "      <td>NaN</td>\n",
       "      <td>03.04.2023 00:00:53</td>\n",
       "      <td>Санкт-Петербург</td>\n",
       "      <td>NaN</td>\n",
       "    </tr>\n",
       "  </tbody>\n",
       "</table>\n",
       "<p>1047 rows × 7 columns</p>\n",
       "</div>"
      ],
      "text/plain": [
       "            ID Основной контакт  Старая воронка   Новая воронка  \\\n",
       "0     32693772            Black   ДРР-скорозвон  ДИСТ-скорозвон   \n",
       "1     32693770         Вячеслав   ДРР-скорозвон   ДРР-скорозвон   \n",
       "2     32693768            Роман   ДРР-скорозвон            Офис   \n",
       "3     32693766          Виталий  ДИСТ-скорозвон            Офис   \n",
       "4     32693764             Миша       СкорингКЦ   ДРР-скорозвон   \n",
       "...        ...              ...             ...             ...   \n",
       "1042  32681060             Егор   ДРР-скорозвон             NaN   \n",
       "1043  32681052            Илона       СкорингКЦ             NaN   \n",
       "1044  32681038            Артём  ДИСТ-скорозвон             NaN   \n",
       "1045  32681036             Женя            Офис             NaN   \n",
       "1046  32681032            Игорь       СкорингКЦ             NaN   \n",
       "\n",
       "            Дата создания            Город  Возраст  \n",
       "0     06.04.2023 23:45:19        Хабаровск     18.0  \n",
       "1     06.04.2023 23:33:57            Пермь     19.0  \n",
       "2     06.04.2023 23:30:35     Екатеринбург     18.0  \n",
       "3     06.04.2023 23:26:23           Другой     18.0  \n",
       "4     06.04.2023 23:25:38           Другой      NaN  \n",
       "...                   ...              ...      ...  \n",
       "1042  03.04.2023 00:59:44           Другой     18.0  \n",
       "1043  03.04.2023 00:32:10   Ростов-на-Дону      NaN  \n",
       "1044  03.04.2023 00:16:55           Другой     18.0  \n",
       "1045  03.04.2023 00:02:59            Киров     19.0  \n",
       "1046  03.04.2023 00:00:53  Санкт-Петербург      NaN  \n",
       "\n",
       "[1047 rows x 7 columns]"
      ]
     },
     "execution_count": 21,
     "metadata": {},
     "output_type": "execute_result"
    }
   ],
   "source": [
    "new_df"
   ]
  },
  {
   "cell_type": "code",
   "execution_count": 22,
   "id": "10f4eeb4",
   "metadata": {},
   "outputs": [],
   "source": [
    "new_df.to_excel(r'C:\\Users\\Egor\\Desktop\\тест\\Задание_2.xlsx', index=False)"
   ]
  },
  {
   "cell_type": "markdown",
   "id": "02e5e9fb",
   "metadata": {},
   "source": [
    "В Excel данная задача реашется с помощью функции ВПР."
   ]
  },
  {
   "cell_type": "markdown",
   "id": "0bca9a7e",
   "metadata": {},
   "source": [
    "# Задача №3"
   ]
  },
  {
   "cell_type": "markdown",
   "id": "c63657b1",
   "metadata": {},
   "source": [
    "**Условие задачи №3** \n",
    "\n",
    "По таблице необходимо построить годовой итоговый отчет, из которого было бы наглядно видно, сколько мы потратили на каждое направление, сколько квалифицированных заявок и договоров нам это принесло.\n",
    "\n",
    "*Док “Таблица”"
   ]
  },
  {
   "cell_type": "code",
   "execution_count": 23,
   "id": "01e588e5",
   "metadata": {},
   "outputs": [],
   "source": [
    "data = pd.read_excel(r'C:\\Users\\Egor\\Desktop\\тест\\Таблица.xlsx', parse_dates=True)"
   ]
  },
  {
   "cell_type": "code",
   "execution_count": 24,
   "id": "510221a1",
   "metadata": {},
   "outputs": [
    {
     "name": "stdout",
     "output_type": "stream",
     "text": [
      "<class 'pandas.core.frame.DataFrame'>\n",
      "RangeIndex: 64 entries, 0 to 63\n",
      "Data columns (total 10 columns):\n",
      " #   Column             Non-Null Count  Dtype  \n",
      "---  ------             --------------  -----  \n",
      " 0   Направление        64 non-null     object \n",
      " 1   Месяц              64 non-null     object \n",
      " 2   Расходы            64 non-null     float64\n",
      " 3   Валовые заявки     64 non-null     int64  \n",
      " 4   CPL валовые        64 non-null     float64\n",
      " 5   Qualify            64 non-null     int64  \n",
      " 6   CPA Qualify        64 non-null     float64\n",
      " 7   CR% вал - Qualify  64 non-null     float64\n",
      " 8   Договоры           64 non-null     int64  \n",
      " 9   CPO                60 non-null     float64\n",
      "dtypes: float64(5), int64(3), object(2)\n",
      "memory usage: 5.1+ KB\n"
     ]
    }
   ],
   "source": [
    "data.info()"
   ]
  },
  {
   "cell_type": "code",
   "execution_count": 25,
   "id": "1eaaf17f",
   "metadata": {
    "scrolled": true
   },
   "outputs": [
    {
     "data": {
      "text/html": [
       "<div>\n",
       "<style scoped>\n",
       "    .dataframe tbody tr th:only-of-type {\n",
       "        vertical-align: middle;\n",
       "    }\n",
       "\n",
       "    .dataframe tbody tr th {\n",
       "        vertical-align: top;\n",
       "    }\n",
       "\n",
       "    .dataframe thead th {\n",
       "        text-align: right;\n",
       "    }\n",
       "</style>\n",
       "<table border=\"1\" class=\"dataframe\">\n",
       "  <thead>\n",
       "    <tr style=\"text-align: right;\">\n",
       "      <th></th>\n",
       "      <th>Направление</th>\n",
       "      <th>Месяц</th>\n",
       "      <th>Расходы</th>\n",
       "      <th>Валовые заявки</th>\n",
       "      <th>CPL валовые</th>\n",
       "      <th>Qualify</th>\n",
       "      <th>CPA Qualify</th>\n",
       "      <th>CR% вал - Qualify</th>\n",
       "      <th>Договоры</th>\n",
       "      <th>CPO</th>\n",
       "    </tr>\n",
       "  </thead>\n",
       "  <tbody>\n",
       "    <tr>\n",
       "      <th>0</th>\n",
       "      <td>VK Freebilet</td>\n",
       "      <td>Январь</td>\n",
       "      <td>7031646.0</td>\n",
       "      <td>4266</td>\n",
       "      <td>1648.299578</td>\n",
       "      <td>2004</td>\n",
       "      <td>3508.805389</td>\n",
       "      <td>0.469761</td>\n",
       "      <td>93</td>\n",
       "      <td>75609.096774</td>\n",
       "    </tr>\n",
       "    <tr>\n",
       "      <th>1</th>\n",
       "      <td>Посев Freebilet</td>\n",
       "      <td>Январь</td>\n",
       "      <td>971091.0</td>\n",
       "      <td>855</td>\n",
       "      <td>1135.778947</td>\n",
       "      <td>502</td>\n",
       "      <td>1934.444223</td>\n",
       "      <td>0.587135</td>\n",
       "      <td>19</td>\n",
       "      <td>51110.052632</td>\n",
       "    </tr>\n",
       "    <tr>\n",
       "      <th>2</th>\n",
       "      <td>VK Metoda</td>\n",
       "      <td>Январь</td>\n",
       "      <td>464346.0</td>\n",
       "      <td>442</td>\n",
       "      <td>1050.556561</td>\n",
       "      <td>229</td>\n",
       "      <td>2027.711790</td>\n",
       "      <td>0.518100</td>\n",
       "      <td>0</td>\n",
       "      <td>NaN</td>\n",
       "    </tr>\n",
       "    <tr>\n",
       "      <th>3</th>\n",
       "      <td>VK Metoda 26+</td>\n",
       "      <td>Январь</td>\n",
       "      <td>165122.0</td>\n",
       "      <td>563</td>\n",
       "      <td>293.289520</td>\n",
       "      <td>307</td>\n",
       "      <td>537.856678</td>\n",
       "      <td>0.545293</td>\n",
       "      <td>0</td>\n",
       "      <td>NaN</td>\n",
       "    </tr>\n",
       "    <tr>\n",
       "      <th>4</th>\n",
       "      <td>Посев Metoda</td>\n",
       "      <td>Январь</td>\n",
       "      <td>1313312.0</td>\n",
       "      <td>3718</td>\n",
       "      <td>353.230769</td>\n",
       "      <td>1942</td>\n",
       "      <td>676.267765</td>\n",
       "      <td>0.522324</td>\n",
       "      <td>9</td>\n",
       "      <td>145923.555556</td>\n",
       "    </tr>\n",
       "  </tbody>\n",
       "</table>\n",
       "</div>"
      ],
      "text/plain": [
       "       Направление   Месяц    Расходы  Валовые заявки  CPL валовые  Qualify  \\\n",
       "0     VK Freebilet  Январь  7031646.0            4266  1648.299578     2004   \n",
       "1  Посев Freebilet  Январь   971091.0             855  1135.778947      502   \n",
       "2        VK Metoda  Январь   464346.0             442  1050.556561      229   \n",
       "3    VK Metoda 26+  Январь   165122.0             563   293.289520      307   \n",
       "4     Посев Metoda  Январь  1313312.0            3718   353.230769     1942   \n",
       "\n",
       "   CPA Qualify  CR% вал - Qualify  Договоры            CPO  \n",
       "0  3508.805389           0.469761        93   75609.096774  \n",
       "1  1934.444223           0.587135        19   51110.052632  \n",
       "2  2027.711790           0.518100         0            NaN  \n",
       "3   537.856678           0.545293         0            NaN  \n",
       "4   676.267765           0.522324         9  145923.555556  "
      ]
     },
     "execution_count": 25,
     "metadata": {},
     "output_type": "execute_result"
    }
   ],
   "source": [
    "data.head()"
   ]
  },
  {
   "cell_type": "markdown",
   "id": "e79a91aa",
   "metadata": {},
   "source": [
    "## Расходы по направлениям"
   ]
  },
  {
   "cell_type": "code",
   "execution_count": 26,
   "id": "11aff7ff",
   "metadata": {},
   "outputs": [],
   "source": [
    "table = pd.DataFrame(\n",
    "    pd.pivot_table(data, values='Расходы', index='Направление',aggfunc='sum') \\\n",
    "    .rename(columns={'Расходы':'Суммарные расходы'})\n",
    "    .sort_values(by='Суммарные расходы',ascending=False)\n",
    ")"
   ]
  },
  {
   "cell_type": "code",
   "execution_count": 27,
   "id": "845c4756",
   "metadata": {},
   "outputs": [
    {
     "data": {
      "image/png": "[encoded data removed]",
      "text/plain": [
       "<Figure size 1008x720 with 1 Axes>"
      ]
     },
     "metadata": {
      "needs_background": "light"
     },
     "output_type": "display_data"
    }
   ],
   "source": [
    "fig, ax = plt.subplots(figsize=(14, 10))\n",
    "\n",
    "sns.barplot(x=table['Суммарные расходы'] / 1000, y=table.index, data=table)\n",
    "\n",
    "plt.xlabel('Расходы (тыс. руб.)', size=14)\n",
    "plt.ylabel('Направление', size=14)\n",
    "plt.title('Суммарные расходы по направлениям'+'\\n', size=20)\n",
    "plt.xticks(np.arange(0, 60000, 5000))\n",
    "\n",
    "for i in ax.containers:\n",
    "    ax.bar_label(i, fmt='%.0f')\n",
    "    \n",
    "plt.show()"
   ]
  },
  {
   "cell_type": "markdown",
   "id": "179e3a52",
   "metadata": {},
   "source": [
    "## Количество квалифицированных заявок"
   ]
  },
  {
   "cell_type": "code",
   "execution_count": 28,
   "id": "1589da82",
   "metadata": {},
   "outputs": [],
   "source": [
    "table = pd.DataFrame(\n",
    "    pd.pivot_table(data, values='Qualify', index='Направление',aggfunc='sum') \\\n",
    "    .rename(columns={'Qualify':'Количество заявок'})\n",
    "    .sort_values(by='Количество заявок',ascending=False)\n",
    ")"
   ]
  },
  {
   "cell_type": "code",
   "execution_count": 29,
   "id": "7c1b7939",
   "metadata": {},
   "outputs": [
    {
     "data": {
      "image/png": "[encoded data removed]",
      "text/plain": [
       "<Figure size 1008x720 with 1 Axes>"
      ]
     },
     "metadata": {
      "needs_background": "light"
     },
     "output_type": "display_data"
    }
   ],
   "source": [
    "fig, ax = plt.subplots(figsize=(14, 10))\n",
    "\n",
    "sns.barplot(x='Количество заявок', y=table.index, data=table)\n",
    "\n",
    "plt.xlabel('Количество заявок', size=14)\n",
    "plt.ylabel('Направление', size=14)\n",
    "plt.title('Количество квалифицированных заявок по направлениям'+'\\n', size=20)\n",
    "\n",
    "for i in ax.containers:\n",
    "    ax.bar_label(i, fmt='%.0f')\n",
    "    \n",
    "plt.show()"
   ]
  },
  {
   "cell_type": "markdown",
   "id": "b8bd5ec5",
   "metadata": {},
   "source": [
    "## Количество договоров"
   ]
  },
  {
   "cell_type": "code",
   "execution_count": 30,
   "id": "4a3a8f3b",
   "metadata": {},
   "outputs": [],
   "source": [
    "table = pd.DataFrame(\n",
    "    pd.pivot_table(data, values='Договоры', index='Направление',aggfunc='sum') \\\n",
    "    .rename(columns={'Договоры':'Количество договоров'})\n",
    "    .sort_values(by='Количество договоров',ascending=False)\n",
    ")"
   ]
  },
  {
   "cell_type": "code",
   "execution_count": 31,
   "id": "914e37db",
   "metadata": {},
   "outputs": [
    {
     "data": {
      "image/png": "[encoded data removed]",
      "text/plain": [
       "<Figure size 1008x720 with 1 Axes>"
      ]
     },
     "metadata": {
      "needs_background": "light"
     },
     "output_type": "display_data"
    }
   ],
   "source": [
    "fig, ax = plt.subplots(figsize=(14, 10))\n",
    "\n",
    "sns.barplot(x='Количество договоров', y=table.index, data=table)\n",
    "\n",
    "plt.xlabel('Количество договоров', size=14)\n",
    "plt.ylabel('Направление', size=14)\n",
    "plt.title('Количество договоров по направлениям'+'\\n', size=20)\n",
    "\n",
    "for i in ax.containers:\n",
    "    ax.bar_label(i, fmt='%.0f')\n",
    "    \n",
    "plt.show()"
   ]
  },
  {
   "cell_type": "markdown",
   "id": "a61f946f",
   "metadata": {},
   "source": [
    "Стоит отметить отсутствие договоров по направлениям: VK Metoda 26+, VK Test 26+, Посев Test."
   ]
  },
  {
   "cell_type": "markdown",
   "id": "536f5e60",
   "metadata": {},
   "source": [
    "## Расход на один договор"
   ]
  },
  {
   "cell_type": "code",
   "execution_count": 32,
   "id": "7341885e",
   "metadata": {},
   "outputs": [],
   "source": [
    "table = pd.DataFrame(\n",
    "    pd.pivot_table(data, values='CPO', index='Направление',aggfunc='mean') \\\n",
    "    .rename(columns={'CPO':'Расход на договор'})\n",
    "    .sort_values(by='Расход на договор',ascending=False)\n",
    ")"
   ]
  },
  {
   "cell_type": "code",
   "execution_count": 33,
   "id": "73dd63cc",
   "metadata": {},
   "outputs": [
    {
     "data": {
      "image/png": "[encoded data removed]",
      "text/plain": [
       "<Figure size 1008x720 with 1 Axes>"
      ]
     },
     "metadata": {
      "needs_background": "light"
     },
     "output_type": "display_data"
    }
   ],
   "source": [
    "fig, ax = plt.subplots(figsize=(14, 10))\n",
    "\n",
    "p = sns.barplot(x='Расход на договор', y=table.index, data=table)\n",
    "\n",
    "plt.xlabel('Расход на договор', size=14)\n",
    "plt.ylabel('Направление', size=14)\n",
    "plt.title('Средний расход на договор по направлениям'+'\\n', size=20)\n",
    "\n",
    "for i in ax.containers:\n",
    "    ax.bar_label(i, fmt='%.0f')\n",
    " \n",
    "plt.show()"
   ]
  },
  {
   "cell_type": "code",
   "execution_count": 34,
   "id": "014fef75",
   "metadata": {},
   "outputs": [
    {
     "data": {
      "image/png": "[encoded data removed]",
      "text/plain": [
       "<Figure size 1008x1008 with 1 Axes>"
      ]
     },
     "metadata": {},
     "output_type": "display_data"
    }
   ],
   "source": [
    "fig, ax = plt.subplots(figsize=(14, 14))\n",
    "\n",
    "colors = sns.color_palette(\"husl\", 15)\n",
    "\n",
    "plt.pie(table['Расход на договор'], \n",
    "        labels=table.index, \n",
    "        colors=colors, \n",
    "        autopct=('%.0f%%'), \n",
    "        labeldistance=1.02, \n",
    "        startangle=90,\n",
    "        pctdistance=0.8,\n",
    "        textprops={'fontsize': 13},\n",
    "        rotatelabels=True\n",
    "        )\n",
    "\n",
    "plt.title('Относительный средний расход на один договор по направлениям', pad=30, size=20)\n",
    "plt.show()"
   ]
  }
 ],
 "metadata": {
  "kernelspec": {
   "display_name": "Python 3 (ipykernel)",
   "language": "python",
   "name": "python3"
  },
  "language_info": {
   "codemirror_mode": {
    "name": "ipython",
    "version": 3
   },
   "file_extension": ".py",
   "mimetype": "text/x-python",
   "name": "python",
   "nbconvert_exporter": "python",
   "pygments_lexer": "ipython3",
   "version": "3.9.12"
  },
  "toc": {
   "base_numbering": 1,
   "nav_menu": {},
   "number_sections": true,
   "sideBar": true,
   "skip_h1_title": false,
   "title_cell": "Table of Contents",
   "title_sidebar": "Contents",
   "toc_cell": false,
   "toc_position": {
    "height": "calc(100% - 180px)",
    "left": "10px",
    "top": "150px",
    "width": "349.091px"
   },
   "toc_section_display": true,
   "toc_window_display": true
  }
 },
 "nbformat": 4,
 "nbformat_minor": 5
}
